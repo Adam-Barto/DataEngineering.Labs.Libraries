{
 "cells": [
  {
   "cell_type": "markdown",
   "metadata": {},
   "source": [
    "## Unstructured Data - Continued\n",
    "\n",
    "Picking up where we left off - in this lab we'll use the same book data set that we web scraped. We'll pick a large genre, and see if we can identify some common words for the genre. We'll then test it out of sample, and see if we can predict which books are also in that genre, just by keyword matches."
   ]
  },
  {
   "cell_type": "code",
   "execution_count": 1,
   "metadata": {},
   "outputs": [],
   "source": [
    "#import pandas, nltk, from nltk.tokenize.api import TokenizerI, matplotlib (inline), numpy\n",
    "\n",
    "import nltk\n",
    "from nltk.tokenize.api import TokenizerI\n",
    "import pandas as pd\n",
    "%matplotlib inline\n",
    "from matplotlib import pyplot as plt\n",
    "import numpy as np"
   ]
  },
  {
   "cell_type": "code",
   "execution_count": 2,
   "metadata": {},
   "outputs": [
    {
     "data": {
      "text/html": [
       "<div>\n",
       "<style scoped>\n",
       "    .dataframe tbody tr th:only-of-type {\n",
       "        vertical-align: middle;\n",
       "    }\n",
       "\n",
       "    .dataframe tbody tr th {\n",
       "        vertical-align: top;\n",
       "    }\n",
       "\n",
       "    .dataframe thead th {\n",
       "        text-align: right;\n",
       "    }\n",
       "</style>\n",
       "<table border=\"1\" class=\"dataframe\">\n",
       "  <thead>\n",
       "    <tr style=\"text-align: right;\">\n",
       "      <th></th>\n",
       "      <th>Title</th>\n",
       "      <th>Price</th>\n",
       "      <th>Description</th>\n",
       "      <th>Rating</th>\n",
       "      <th>Link</th>\n",
       "      <th>Genre</th>\n",
       "    </tr>\n",
       "  </thead>\n",
       "  <tbody>\n",
       "    <tr>\n",
       "      <th>0</th>\n",
       "      <td>A Light in the Attic</td>\n",
       "      <td>Â£51.77</td>\n",
       "      <td>It's hard to imagine a world without A Light i...</td>\n",
       "      <td>Three</td>\n",
       "      <td>a-light-in-the-attic_1000/index.html</td>\n",
       "      <td>Poetry</td>\n",
       "    </tr>\n",
       "    <tr>\n",
       "      <th>1</th>\n",
       "      <td>Tipping the Velvet</td>\n",
       "      <td>Â£53.74</td>\n",
       "      <td>\"Erotic and absorbing...Written with starling ...</td>\n",
       "      <td>One</td>\n",
       "      <td>tipping-the-velvet_999/index.html</td>\n",
       "      <td>Historical Fiction</td>\n",
       "    </tr>\n",
       "    <tr>\n",
       "      <th>2</th>\n",
       "      <td>Soumission</td>\n",
       "      <td>Â£50.10</td>\n",
       "      <td>Dans une France assez proche de la nÃ´tre, un ...</td>\n",
       "      <td>One</td>\n",
       "      <td>soumission_998/index.html</td>\n",
       "      <td>Fiction</td>\n",
       "    </tr>\n",
       "    <tr>\n",
       "      <th>3</th>\n",
       "      <td>Sharp Objects</td>\n",
       "      <td>Â£47.82</td>\n",
       "      <td>WICKED above her hipbone, GIRL across her hear...</td>\n",
       "      <td>Four</td>\n",
       "      <td>sharp-objects_997/index.html</td>\n",
       "      <td>Mystery</td>\n",
       "    </tr>\n",
       "    <tr>\n",
       "      <th>4</th>\n",
       "      <td>Sapiens: A Brief History of Humankind</td>\n",
       "      <td>Â£54.23</td>\n",
       "      <td>From a renowned historian comes a groundbreaki...</td>\n",
       "      <td>Five</td>\n",
       "      <td>sapiens-a-brief-history-of-humankind_996/index...</td>\n",
       "      <td>History</td>\n",
       "    </tr>\n",
       "  </tbody>\n",
       "</table>\n",
       "</div>"
      ],
      "text/plain": [
       "                                   Title    Price  \\\n",
       "0                   A Light in the Attic  Â£51.77   \n",
       "1                     Tipping the Velvet  Â£53.74   \n",
       "2                             Soumission  Â£50.10   \n",
       "3                          Sharp Objects  Â£47.82   \n",
       "4  Sapiens: A Brief History of Humankind  Â£54.23   \n",
       "\n",
       "                                         Description Rating  \\\n",
       "0  It's hard to imagine a world without A Light i...  Three   \n",
       "1  \"Erotic and absorbing...Written with starling ...    One   \n",
       "2  Dans une France assez proche de la nÃ´tre, un ...    One   \n",
       "3  WICKED above her hipbone, GIRL across her hear...   Four   \n",
       "4  From a renowned historian comes a groundbreaki...   Five   \n",
       "\n",
       "                                                Link               Genre  \n",
       "0               a-light-in-the-attic_1000/index.html              Poetry  \n",
       "1                  tipping-the-velvet_999/index.html  Historical Fiction  \n",
       "2                          soumission_998/index.html             Fiction  \n",
       "3                       sharp-objects_997/index.html             Mystery  \n",
       "4  sapiens-a-brief-history-of-humankind_996/index...             History  "
      ]
     },
     "execution_count": 2,
     "metadata": {},
     "output_type": "execute_result"
    }
   ],
   "source": [
    "#read in the book data\n",
    "\n",
    "data = pd.read_csv('scraped_books.csv', index_col=0)\n",
    "data.head()"
   ]
  },
  {
   "cell_type": "code",
   "execution_count": 3,
   "metadata": {},
   "outputs": [
    {
     "data": {
      "text/plain": [
       "Default           152\n",
       "Nonfiction        110\n",
       "Sequential Art     75\n",
       "Add a comment      67\n",
       "Fiction            65\n",
       "Young Adult        54\n",
       "Fantasy            48\n",
       "Romance            35\n",
       "Mystery            32\n",
       "Food and Drink     30\n",
       "Name: Genre, dtype: int64"
      ]
     },
     "execution_count": 3,
     "metadata": {},
     "output_type": "execute_result"
    }
   ],
   "source": [
    "#display the top 10 genres\n",
    "data.Genre.value_counts()[:10]"
   ]
  },
  {
   "cell_type": "markdown",
   "metadata": {},
   "source": [
    "Looks like the top few genres are fairly broad, so let's pick a genre that likely has more descriptive keywords."
   ]
  },
  {
   "cell_type": "code",
   "execution_count": 4,
   "metadata": {},
   "outputs": [
    {
     "data": {
      "text/html": [
       "<div>\n",
       "<style scoped>\n",
       "    .dataframe tbody tr th:only-of-type {\n",
       "        vertical-align: middle;\n",
       "    }\n",
       "\n",
       "    .dataframe tbody tr th {\n",
       "        vertical-align: top;\n",
       "    }\n",
       "\n",
       "    .dataframe thead th {\n",
       "        text-align: right;\n",
       "    }\n",
       "</style>\n",
       "<table border=\"1\" class=\"dataframe\">\n",
       "  <thead>\n",
       "    <tr style=\"text-align: right;\">\n",
       "      <th></th>\n",
       "      <th>Title</th>\n",
       "      <th>Price</th>\n",
       "      <th>Description</th>\n",
       "      <th>Rating</th>\n",
       "      <th>Link</th>\n",
       "      <th>Genre</th>\n",
       "    </tr>\n",
       "  </thead>\n",
       "  <tbody>\n",
       "    <tr>\n",
       "      <th>49</th>\n",
       "      <td>Unicorn Tracks</td>\n",
       "      <td>Â£18.78</td>\n",
       "      <td>After a savage attack drives her from her home...</td>\n",
       "      <td>Three</td>\n",
       "      <td>unicorn-tracks_951/index.html</td>\n",
       "      <td>Fantasy</td>\n",
       "    </tr>\n",
       "    <tr>\n",
       "      <th>76</th>\n",
       "      <td>Saga, Volume 6 (Saga (Collected Editions) #6)</td>\n",
       "      <td>Â£25.02</td>\n",
       "      <td>After a dramatic time jump, the three-time Eis...</td>\n",
       "      <td>Three</td>\n",
       "      <td>saga-volume-6-saga-collected-editions-6_924/in...</td>\n",
       "      <td>Fantasy</td>\n",
       "    </tr>\n",
       "    <tr>\n",
       "      <th>81</th>\n",
       "      <td>Princess Between Worlds (Wide-Awake Princess #5)</td>\n",
       "      <td>Â£13.34</td>\n",
       "      <td>Just as Annie and Liam are busy making plans t...</td>\n",
       "      <td>Five</td>\n",
       "      <td>princess-between-worlds-wide-awake-princess-5_...</td>\n",
       "      <td>Fantasy</td>\n",
       "    </tr>\n",
       "    <tr>\n",
       "      <th>91</th>\n",
       "      <td>Masks and Shadows</td>\n",
       "      <td>Â£56.40</td>\n",
       "      <td>The year is 1779, and Carlo Morelli, the most ...</td>\n",
       "      <td>Two</td>\n",
       "      <td>masks-and-shadows_909/index.html</td>\n",
       "      <td>Fantasy</td>\n",
       "    </tr>\n",
       "    <tr>\n",
       "      <th>112</th>\n",
       "      <td>Crown of Midnight (Throne of Glass #2)</td>\n",
       "      <td>Â£43.29</td>\n",
       "      <td>\"A line that should never be crossed is about ...</td>\n",
       "      <td>Three</td>\n",
       "      <td>crown-of-midnight-throne-of-glass-2_888/index....</td>\n",
       "      <td>Fantasy</td>\n",
       "    </tr>\n",
       "  </tbody>\n",
       "</table>\n",
       "</div>"
      ],
      "text/plain": [
       "                                                Title    Price  \\\n",
       "49                                     Unicorn Tracks  Â£18.78   \n",
       "76      Saga, Volume 6 (Saga (Collected Editions) #6)  Â£25.02   \n",
       "81   Princess Between Worlds (Wide-Awake Princess #5)  Â£13.34   \n",
       "91                                  Masks and Shadows  Â£56.40   \n",
       "112            Crown of Midnight (Throne of Glass #2)  Â£43.29   \n",
       "\n",
       "                                           Description Rating  \\\n",
       "49   After a savage attack drives her from her home...  Three   \n",
       "76   After a dramatic time jump, the three-time Eis...  Three   \n",
       "81   Just as Annie and Liam are busy making plans t...   Five   \n",
       "91   The year is 1779, and Carlo Morelli, the most ...    Two   \n",
       "112  \"A line that should never be crossed is about ...  Three   \n",
       "\n",
       "                                                  Link    Genre  \n",
       "49                       unicorn-tracks_951/index.html  Fantasy  \n",
       "76   saga-volume-6-saga-collected-editions-6_924/in...  Fantasy  \n",
       "81   princess-between-worlds-wide-awake-princess-5_...  Fantasy  \n",
       "91                    masks-and-shadows_909/index.html  Fantasy  \n",
       "112  crown-of-midnight-throne-of-glass-2_888/index....  Fantasy  "
      ]
     },
     "execution_count": 4,
     "metadata": {},
     "output_type": "execute_result"
    }
   ],
   "source": [
    "#create a slice of the dataframe that is only books in the Fantasy genre and show the first 5 rows of it\n",
    "\n",
    "fantasy = data[data['Genre'] == 'Fantasy']\n",
    "fantasy.head()"
   ]
  },
  {
   "cell_type": "markdown",
   "metadata": {},
   "source": [
    "Now let's split this into a training and test set. The idea here is that we want to find common words in 70% of the Fantasy book descriptions. Then we'll see if we can accurately predict the other 30% of the books. There is a very easy way of doing this using scikit-learn's [*sklearn.model_selection.train_test_split()*](https://scikit-learn.org/stable/modules/generated/sklearn.model_selection.train_test_split.html) function. To be totally clear, this is way overkill for this application, but it's a cool way to start using scikit, so let's do it. 😂"
   ]
  },
  {
   "cell_type": "code",
   "execution_count": 5,
   "metadata": {},
   "outputs": [],
   "source": [
    "#import the model_selection class from scikit\n",
    "\n",
    "from sklearn import model_selection"
   ]
  },
  {
   "cell_type": "code",
   "execution_count": 6,
   "metadata": {},
   "outputs": [],
   "source": [
    "#split the dataframe into a train (70%) and test (30%) set\n",
    "\n",
    "train, test = model_selection.train_test_split(fantasy, test_size=0.3, train_size=0.7)"
   ]
  },
  {
   "cell_type": "code",
   "execution_count": 7,
   "metadata": {},
   "outputs": [
    {
     "data": {
      "text/plain": [
       "33"
      ]
     },
     "execution_count": 7,
     "metadata": {},
     "output_type": "execute_result"
    }
   ],
   "source": [
    "#check the len of your train set to confirm you split properly\n",
    "\n",
    "len(train)"
   ]
  },
  {
   "cell_type": "code",
   "execution_count": 8,
   "metadata": {},
   "outputs": [
    {
     "data": {
      "text/plain": [
       "15"
      ]
     },
     "execution_count": 8,
     "metadata": {},
     "output_type": "execute_result"
    }
   ],
   "source": [
    "#check the len of your test set to confirm you split properly\n",
    "\n",
    "len(test)"
   ]
  },
  {
   "cell_type": "markdown",
   "metadata": {},
   "source": [
    "Now, let's create a tokenization function that you can use apply to each row. It should tokenize the given row's description, remove stopwords, create a FreqDist for the tokens, remove anything that is < 1 character, and then return the top 5 most common words."
   ]
  },
  {
   "cell_type": "code",
   "execution_count": 9,
   "metadata": {},
   "outputs": [],
   "source": [
    "#import stopwords and set them to use the english subset\n",
    "\n",
    "from nltk.corpus import stopwords\n",
    "stopwords = stopwords.words('english')"
   ]
  },
  {
   "cell_type": "code",
   "execution_count": 10,
   "metadata": {},
   "outputs": [],
   "source": [
    "#define the tokenization function\n",
    "\n",
    "def common_word_getter(row):\n",
    "    words = nltk.word_tokenize(row.Description)\n",
    "    frequency = nltk.FreqDist(words)\n",
    "    frequency = [(w, f) for (w, f) in frequency.items() if w.lower() not in stopwords]\n",
    "    frequency = [(w, f) for (w, f) in frequency if len(w) > 1]\n",
    "    frequency.sort(key=lambda tup: tup[1], reverse=True)\n",
    "    most_common = frequency[:5]\n",
    "    return most_common"
   ]
  },
  {
   "cell_type": "code",
   "execution_count": 11,
   "metadata": {},
   "outputs": [],
   "source": [
    "#create a list of the most common words per book by iterating through the training set and applying your function\n",
    "\n",
    "common_list = []\n",
    "\n",
    "for index, row in train.iterrows():\n",
    "    common_list.append(common_word_getter(row))\n",
    "    "
   ]
  },
  {
   "cell_type": "code",
   "execution_count": 12,
   "metadata": {},
   "outputs": [
    {
     "name": "stderr",
     "output_type": "stream",
     "text": [
      "/usr/local/lib/python3.7/site-packages/ipykernel_launcher.py:3: SettingWithCopyWarning: \n",
      "A value is trying to be set on a copy of a slice from a DataFrame.\n",
      "Try using .loc[row_indexer,col_indexer] = value instead\n",
      "\n",
      "See the caveats in the documentation: https://pandas.pydata.org/pandas-docs/stable/user_guide/indexing.html#returning-a-view-versus-a-copy\n",
      "  This is separate from the ipykernel package so we can avoid doing imports until\n"
     ]
    }
   ],
   "source": [
    "#add an empty column to the train dataframe called 'most_common' and fill it with NaNs\n",
    "\n",
    "train['most_common'] = np.nan"
   ]
  },
  {
   "cell_type": "code",
   "execution_count": 13,
   "metadata": {},
   "outputs": [
    {
     "name": "stderr",
     "output_type": "stream",
     "text": [
      "/usr/local/lib/python3.7/site-packages/ipykernel_launcher.py:3: SettingWithCopyWarning: \n",
      "A value is trying to be set on a copy of a slice from a DataFrame.\n",
      "Try using .loc[row_indexer,col_indexer] = value instead\n",
      "\n",
      "See the caveats in the documentation: https://pandas.pydata.org/pandas-docs/stable/user_guide/indexing.html#returning-a-view-versus-a-copy\n",
      "  This is separate from the ipykernel package so we can avoid doing imports until\n"
     ]
    }
   ],
   "source": [
    "#set the value of the 'most_common' column to the list of common words you found\n",
    "\n",
    "train['most_common'] = common_list"
   ]
  },
  {
   "cell_type": "code",
   "execution_count": 14,
   "metadata": {},
   "outputs": [
    {
     "data": {
      "text/html": [
       "<div>\n",
       "<style scoped>\n",
       "    .dataframe tbody tr th:only-of-type {\n",
       "        vertical-align: middle;\n",
       "    }\n",
       "\n",
       "    .dataframe tbody tr th {\n",
       "        vertical-align: top;\n",
       "    }\n",
       "\n",
       "    .dataframe thead th {\n",
       "        text-align: right;\n",
       "    }\n",
       "</style>\n",
       "<table border=\"1\" class=\"dataframe\">\n",
       "  <thead>\n",
       "    <tr style=\"text-align: right;\">\n",
       "      <th></th>\n",
       "      <th>Title</th>\n",
       "      <th>Price</th>\n",
       "      <th>Description</th>\n",
       "      <th>Rating</th>\n",
       "      <th>Link</th>\n",
       "      <th>Genre</th>\n",
       "      <th>most_common</th>\n",
       "    </tr>\n",
       "  </thead>\n",
       "  <tbody>\n",
       "    <tr>\n",
       "      <th>834</th>\n",
       "      <td>Heir to the Sky</td>\n",
       "      <td>Â£44.07</td>\n",
       "      <td>As heir to a kingdom of floating continents, K...</td>\n",
       "      <td>Four</td>\n",
       "      <td>heir-to-the-sky_166/index.html</td>\n",
       "      <td>Fantasy</td>\n",
       "      <td>[(Kali, 4), (earth, 4), (kingdom, 3), (edge, 3...</td>\n",
       "    </tr>\n",
       "    <tr>\n",
       "      <th>527</th>\n",
       "      <td>King's Folly (The Kinsman Chronicles #1)</td>\n",
       "      <td>Â£39.61</td>\n",
       "      <td>The gods are angry.Volcanic eruptions, sinkhol...</td>\n",
       "      <td>Five</td>\n",
       "      <td>kings-folly-the-kinsman-chronicles-1_473/index...</td>\n",
       "      <td>Fantasy</td>\n",
       "      <td>[(Wilek, 5), (ground, 3), (king, 3), (gods, 2)...</td>\n",
       "    </tr>\n",
       "    <tr>\n",
       "      <th>877</th>\n",
       "      <td>Ash</td>\n",
       "      <td>Â£22.06</td>\n",
       "      <td>Cinderella retold In the wake of her father's ...</td>\n",
       "      <td>Four</td>\n",
       "      <td>ash_123/index.html</td>\n",
       "      <td>Fantasy</td>\n",
       "      <td>[(Ash, 7), (fairy, 5), ('s, 4), (death, 3), (g...</td>\n",
       "    </tr>\n",
       "    <tr>\n",
       "      <th>604</th>\n",
       "      <td>Tell the Wind and Fire</td>\n",
       "      <td>Â£45.51</td>\n",
       "      <td>In a city divided between opulent luxury in th...</td>\n",
       "      <td>Three</td>\n",
       "      <td>tell-the-wind-and-fire_396/index.html</td>\n",
       "      <td>Fantasy</td>\n",
       "      <td>[(city, 5), (Light, 4), (Dark, 4), (boyfriend,...</td>\n",
       "    </tr>\n",
       "    <tr>\n",
       "      <th>643</th>\n",
       "      <td>A Feast for Crows (A Song of Ice and Fire #4)</td>\n",
       "      <td>Â£17.21</td>\n",
       "      <td>With A Feast for Crows, Martin delivers the lo...</td>\n",
       "      <td>Four</td>\n",
       "      <td>a-feast-for-crows-a-song-of-ice-and-fire-4_357...</td>\n",
       "      <td>Fantasy</td>\n",
       "      <td>[(survivors, 3), (Feast, 2), (Crows, 2), (Mart...</td>\n",
       "    </tr>\n",
       "  </tbody>\n",
       "</table>\n",
       "</div>"
      ],
      "text/plain": [
       "                                             Title    Price  \\\n",
       "834                                Heir to the Sky  Â£44.07   \n",
       "527       King's Folly (The Kinsman Chronicles #1)  Â£39.61   \n",
       "877                                            Ash  Â£22.06   \n",
       "604                         Tell the Wind and Fire  Â£45.51   \n",
       "643  A Feast for Crows (A Song of Ice and Fire #4)  Â£17.21   \n",
       "\n",
       "                                           Description Rating  \\\n",
       "834  As heir to a kingdom of floating continents, K...   Four   \n",
       "527  The gods are angry.Volcanic eruptions, sinkhol...   Five   \n",
       "877  Cinderella retold In the wake of her father's ...   Four   \n",
       "604  In a city divided between opulent luxury in th...  Three   \n",
       "643  With A Feast for Crows, Martin delivers the lo...   Four   \n",
       "\n",
       "                                                  Link    Genre  \\\n",
       "834                     heir-to-the-sky_166/index.html  Fantasy   \n",
       "527  kings-folly-the-kinsman-chronicles-1_473/index...  Fantasy   \n",
       "877                                 ash_123/index.html  Fantasy   \n",
       "604              tell-the-wind-and-fire_396/index.html  Fantasy   \n",
       "643  a-feast-for-crows-a-song-of-ice-and-fire-4_357...  Fantasy   \n",
       "\n",
       "                                           most_common  \n",
       "834  [(Kali, 4), (earth, 4), (kingdom, 3), (edge, 3...  \n",
       "527  [(Wilek, 5), (ground, 3), (king, 3), (gods, 2)...  \n",
       "877  [(Ash, 7), (fairy, 5), ('s, 4), (death, 3), (g...  \n",
       "604  [(city, 5), (Light, 4), (Dark, 4), (boyfriend,...  \n",
       "643  [(survivors, 3), (Feast, 2), (Crows, 2), (Mart...  "
      ]
     },
     "execution_count": 14,
     "metadata": {},
     "output_type": "execute_result"
    }
   ],
   "source": [
    "#show the first few rows of your dataframe\n",
    "\n",
    "train.head()"
   ]
  },
  {
   "cell_type": "code",
   "execution_count": null,
   "metadata": {},
   "outputs": [],
   "source": []
  }
 ],
 "metadata": {
  "kernelspec": {
   "display_name": "Python 3",
   "language": "python",
   "name": "python3"
  },
  "language_info": {
   "codemirror_mode": {
    "name": "ipython",
    "version": 3
   },
   "file_extension": ".py",
   "mimetype": "text/x-python",
   "name": "python",
   "nbconvert_exporter": "python",
   "pygments_lexer": "ipython3",
   "version": "3.7.6"
  }
 },
 "nbformat": 4,
 "nbformat_minor": 4
}
