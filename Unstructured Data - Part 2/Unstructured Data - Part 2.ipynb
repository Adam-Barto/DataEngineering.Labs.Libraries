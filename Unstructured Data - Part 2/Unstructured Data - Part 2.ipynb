{
 "cells": [
  {
   "cell_type": "markdown",
   "metadata": {},
   "source": [
    "## Unstructured Data - Continued\n",
    "\n",
    "Picking up where we left off - in this lab we'll use the same book data set that we web scraped. We'll pick a large genre, and see if we can identify some common words for the genre. We'll then see if we can distinguish genre's from each another.\n",
    "\n",
    "This brings us to the fundamental problem of both data engineering and data science work with unstructured data. That is, in general, computers understand numbers better than words. This sounds obvious, but it is the fundamental problem that has to be solved when extracting information from unstructured data.\n",
    "\n",
    "This lab will require a bit of handholding, as there are some complex concepts we're going jump into.\n",
    "\n",
    "Let's get started. . ."
   ]
  },
  {
   "cell_type": "code",
   "execution_count": 1,
   "metadata": {},
   "outputs": [],
   "source": [
    "#import pandas, nltk, from nltk.tokenize.api import TokenizerI, matplotlib (inline), numpy\n",
    "\n",
    "import nltk\n",
    "from nltk.tokenize.api import TokenizerI\n",
    "import pandas as pd\n",
    "%matplotlib inline\n",
    "from matplotlib import pyplot as plt\n",
    "import numpy as np\n",
    "\n",
    "#import the model_selection class from scikit\n",
    "\n",
    "from sklearn import model_selection"
   ]
  },
  {
   "cell_type": "code",
   "execution_count": 2,
   "metadata": {},
   "outputs": [
    {
     "data": {
      "text/html": [
       "<div>\n",
       "<style scoped>\n",
       "    .dataframe tbody tr th:only-of-type {\n",
       "        vertical-align: middle;\n",
       "    }\n",
       "\n",
       "    .dataframe tbody tr th {\n",
       "        vertical-align: top;\n",
       "    }\n",
       "\n",
       "    .dataframe thead th {\n",
       "        text-align: right;\n",
       "    }\n",
       "</style>\n",
       "<table border=\"1\" class=\"dataframe\">\n",
       "  <thead>\n",
       "    <tr style=\"text-align: right;\">\n",
       "      <th></th>\n",
       "      <th>Title</th>\n",
       "      <th>Price</th>\n",
       "      <th>Description</th>\n",
       "      <th>Rating</th>\n",
       "      <th>Link</th>\n",
       "      <th>Genre</th>\n",
       "    </tr>\n",
       "  </thead>\n",
       "  <tbody>\n",
       "    <tr>\n",
       "      <th>0</th>\n",
       "      <td>A Light in the Attic</td>\n",
       "      <td>Â£51.77</td>\n",
       "      <td>It's hard to imagine a world without A Light i...</td>\n",
       "      <td>Three</td>\n",
       "      <td>a-light-in-the-attic_1000/index.html</td>\n",
       "      <td>Poetry</td>\n",
       "    </tr>\n",
       "    <tr>\n",
       "      <th>1</th>\n",
       "      <td>Tipping the Velvet</td>\n",
       "      <td>Â£53.74</td>\n",
       "      <td>\"Erotic and absorbing...Written with starling ...</td>\n",
       "      <td>One</td>\n",
       "      <td>tipping-the-velvet_999/index.html</td>\n",
       "      <td>Historical Fiction</td>\n",
       "    </tr>\n",
       "    <tr>\n",
       "      <th>2</th>\n",
       "      <td>Soumission</td>\n",
       "      <td>Â£50.10</td>\n",
       "      <td>Dans une France assez proche de la nÃ´tre, un ...</td>\n",
       "      <td>One</td>\n",
       "      <td>soumission_998/index.html</td>\n",
       "      <td>Fiction</td>\n",
       "    </tr>\n",
       "    <tr>\n",
       "      <th>3</th>\n",
       "      <td>Sharp Objects</td>\n",
       "      <td>Â£47.82</td>\n",
       "      <td>WICKED above her hipbone, GIRL across her hear...</td>\n",
       "      <td>Four</td>\n",
       "      <td>sharp-objects_997/index.html</td>\n",
       "      <td>Mystery</td>\n",
       "    </tr>\n",
       "    <tr>\n",
       "      <th>4</th>\n",
       "      <td>Sapiens: A Brief History of Humankind</td>\n",
       "      <td>Â£54.23</td>\n",
       "      <td>From a renowned historian comes a groundbreaki...</td>\n",
       "      <td>Five</td>\n",
       "      <td>sapiens-a-brief-history-of-humankind_996/index...</td>\n",
       "      <td>History</td>\n",
       "    </tr>\n",
       "  </tbody>\n",
       "</table>\n",
       "</div>"
      ],
      "text/plain": [
       "                                   Title    Price  \\\n",
       "0                   A Light in the Attic  Â£51.77   \n",
       "1                     Tipping the Velvet  Â£53.74   \n",
       "2                             Soumission  Â£50.10   \n",
       "3                          Sharp Objects  Â£47.82   \n",
       "4  Sapiens: A Brief History of Humankind  Â£54.23   \n",
       "\n",
       "                                         Description Rating  \\\n",
       "0  It's hard to imagine a world without A Light i...  Three   \n",
       "1  \"Erotic and absorbing...Written with starling ...    One   \n",
       "2  Dans une France assez proche de la nÃ´tre, un ...    One   \n",
       "3  WICKED above her hipbone, GIRL across her hear...   Four   \n",
       "4  From a renowned historian comes a groundbreaki...   Five   \n",
       "\n",
       "                                                Link               Genre  \n",
       "0               a-light-in-the-attic_1000/index.html              Poetry  \n",
       "1                  tipping-the-velvet_999/index.html  Historical Fiction  \n",
       "2                          soumission_998/index.html             Fiction  \n",
       "3                       sharp-objects_997/index.html             Mystery  \n",
       "4  sapiens-a-brief-history-of-humankind_996/index...             History  "
      ]
     },
     "execution_count": 2,
     "metadata": {},
     "output_type": "execute_result"
    }
   ],
   "source": [
    "#read in the book data\n",
    "\n",
    "data = pd.read_csv('scraped_books.csv', index_col=0)\n",
    "data.head()"
   ]
  },
  {
   "cell_type": "code",
   "execution_count": 3,
   "metadata": {},
   "outputs": [
    {
     "data": {
      "text/plain": [
       "Default           152\n",
       "Nonfiction        110\n",
       "Sequential Art     75\n",
       "Add a comment      67\n",
       "Fiction            65\n",
       "Young Adult        54\n",
       "Fantasy            48\n",
       "Romance            35\n",
       "Mystery            32\n",
       "Food and Drink     30\n",
       "Name: Genre, dtype: int64"
      ]
     },
     "execution_count": 3,
     "metadata": {},
     "output_type": "execute_result"
    }
   ],
   "source": [
    "#display the top 10 genres\n",
    "\n",
    "data.Genre.value_counts()[:10]"
   ]
  },
  {
   "cell_type": "markdown",
   "metadata": {},
   "source": [
    "Looks like the top few genres are fairly broad, so let's pick a genre that likely has more descriptive keywords."
   ]
  },
  {
   "cell_type": "code",
   "execution_count": 4,
   "metadata": {},
   "outputs": [
    {
     "data": {
      "text/html": [
       "<div>\n",
       "<style scoped>\n",
       "    .dataframe tbody tr th:only-of-type {\n",
       "        vertical-align: middle;\n",
       "    }\n",
       "\n",
       "    .dataframe tbody tr th {\n",
       "        vertical-align: top;\n",
       "    }\n",
       "\n",
       "    .dataframe thead th {\n",
       "        text-align: right;\n",
       "    }\n",
       "</style>\n",
       "<table border=\"1\" class=\"dataframe\">\n",
       "  <thead>\n",
       "    <tr style=\"text-align: right;\">\n",
       "      <th></th>\n",
       "      <th>Title</th>\n",
       "      <th>Price</th>\n",
       "      <th>Description</th>\n",
       "      <th>Rating</th>\n",
       "      <th>Link</th>\n",
       "      <th>Genre</th>\n",
       "    </tr>\n",
       "  </thead>\n",
       "  <tbody>\n",
       "    <tr>\n",
       "      <th>49</th>\n",
       "      <td>Unicorn Tracks</td>\n",
       "      <td>Â£18.78</td>\n",
       "      <td>After a savage attack drives her from her home...</td>\n",
       "      <td>Three</td>\n",
       "      <td>unicorn-tracks_951/index.html</td>\n",
       "      <td>Fantasy</td>\n",
       "    </tr>\n",
       "    <tr>\n",
       "      <th>76</th>\n",
       "      <td>Saga, Volume 6 (Saga (Collected Editions) #6)</td>\n",
       "      <td>Â£25.02</td>\n",
       "      <td>After a dramatic time jump, the three-time Eis...</td>\n",
       "      <td>Three</td>\n",
       "      <td>saga-volume-6-saga-collected-editions-6_924/in...</td>\n",
       "      <td>Fantasy</td>\n",
       "    </tr>\n",
       "    <tr>\n",
       "      <th>81</th>\n",
       "      <td>Princess Between Worlds (Wide-Awake Princess #5)</td>\n",
       "      <td>Â£13.34</td>\n",
       "      <td>Just as Annie and Liam are busy making plans t...</td>\n",
       "      <td>Five</td>\n",
       "      <td>princess-between-worlds-wide-awake-princess-5_...</td>\n",
       "      <td>Fantasy</td>\n",
       "    </tr>\n",
       "    <tr>\n",
       "      <th>91</th>\n",
       "      <td>Masks and Shadows</td>\n",
       "      <td>Â£56.40</td>\n",
       "      <td>The year is 1779, and Carlo Morelli, the most ...</td>\n",
       "      <td>Two</td>\n",
       "      <td>masks-and-shadows_909/index.html</td>\n",
       "      <td>Fantasy</td>\n",
       "    </tr>\n",
       "    <tr>\n",
       "      <th>112</th>\n",
       "      <td>Crown of Midnight (Throne of Glass #2)</td>\n",
       "      <td>Â£43.29</td>\n",
       "      <td>\"A line that should never be crossed is about ...</td>\n",
       "      <td>Three</td>\n",
       "      <td>crown-of-midnight-throne-of-glass-2_888/index....</td>\n",
       "      <td>Fantasy</td>\n",
       "    </tr>\n",
       "  </tbody>\n",
       "</table>\n",
       "</div>"
      ],
      "text/plain": [
       "                                                Title    Price  \\\n",
       "49                                     Unicorn Tracks  Â£18.78   \n",
       "76      Saga, Volume 6 (Saga (Collected Editions) #6)  Â£25.02   \n",
       "81   Princess Between Worlds (Wide-Awake Princess #5)  Â£13.34   \n",
       "91                                  Masks and Shadows  Â£56.40   \n",
       "112            Crown of Midnight (Throne of Glass #2)  Â£43.29   \n",
       "\n",
       "                                           Description Rating  \\\n",
       "49   After a savage attack drives her from her home...  Three   \n",
       "76   After a dramatic time jump, the three-time Eis...  Three   \n",
       "81   Just as Annie and Liam are busy making plans t...   Five   \n",
       "91   The year is 1779, and Carlo Morelli, the most ...    Two   \n",
       "112  \"A line that should never be crossed is about ...  Three   \n",
       "\n",
       "                                                  Link    Genre  \n",
       "49                       unicorn-tracks_951/index.html  Fantasy  \n",
       "76   saga-volume-6-saga-collected-editions-6_924/in...  Fantasy  \n",
       "81   princess-between-worlds-wide-awake-princess-5_...  Fantasy  \n",
       "91                    masks-and-shadows_909/index.html  Fantasy  \n",
       "112  crown-of-midnight-throne-of-glass-2_888/index....  Fantasy  "
      ]
     },
     "execution_count": 4,
     "metadata": {},
     "output_type": "execute_result"
    }
   ],
   "source": [
    "#create a slice of the dataframe that is only books in the Fantasy genre and show the first 5 rows of it\n",
    "\n",
    "fantasy = data[data['Genre'] == 'Fantasy']\n",
    "fantasy.head()"
   ]
  },
  {
   "cell_type": "markdown",
   "metadata": {},
   "source": [
    "## Dipping our toes in. . .\n",
    "\n",
    "Now let's split this into a training and test set. The idea here is that we want to find common words in 70% of the Fantasy book descriptions. Then we'll see if we can accurately predict the other 30% of the books. There is a very easy way of doing this using scikit-learn's [*sklearn.model_selection.train_test_split()*](https://scikit-learn.org/stable/modules/generated/sklearn.model_selection.train_test_split.html) function. To be totally clear, this is way overkill for this application, but it's a cool way to start using scikit, so let's do it. 😂"
   ]
  },
  {
   "cell_type": "code",
   "execution_count": 5,
   "metadata": {},
   "outputs": [],
   "source": [
    "#split the dataframe into a train (70%) and test (30%) set\n",
    "\n",
    "train, test = model_selection.train_test_split(fantasy, test_size=0.3, train_size=0.7)"
   ]
  },
  {
   "cell_type": "code",
   "execution_count": 6,
   "metadata": {},
   "outputs": [
    {
     "data": {
      "text/plain": [
       "33"
      ]
     },
     "execution_count": 6,
     "metadata": {},
     "output_type": "execute_result"
    }
   ],
   "source": [
    "#check the len of your train set to confirm you split properly\n",
    "\n",
    "len(train)"
   ]
  },
  {
   "cell_type": "code",
   "execution_count": 7,
   "metadata": {},
   "outputs": [
    {
     "data": {
      "text/plain": [
       "15"
      ]
     },
     "execution_count": 7,
     "metadata": {},
     "output_type": "execute_result"
    }
   ],
   "source": [
    "#check the len of your test set to confirm you split properly\n",
    "\n",
    "len(test)"
   ]
  },
  {
   "cell_type": "markdown",
   "metadata": {},
   "source": [
    "Now, let's create a tokenization function that you can use apply to each row. It should tokenize the given row's description, remove stopwords, create a FreqDist for the tokens, remove anything that is < 1 character, and then return the top 5 most common words."
   ]
  },
  {
   "cell_type": "code",
   "execution_count": 8,
   "metadata": {},
   "outputs": [],
   "source": [
    "#import stopwords and set them to use the english subset\n",
    "\n",
    "from nltk.corpus import stopwords\n",
    "stopwords = stopwords.words('english')"
   ]
  },
  {
   "cell_type": "code",
   "execution_count": 9,
   "metadata": {},
   "outputs": [],
   "source": [
    "#define the tokenization function \n",
    "\n",
    "def common_word_getter(row):\n",
    "    words = nltk.word_tokenize(row.Description)\n",
    "    frequency = nltk.FreqDist(words)\n",
    "    frequency = [(w, f) for (w, f) in frequency.items() if w.lower() not in stopwords]\n",
    "    frequency = [(w, f) for (w, f) in frequency if len(w) > 1]\n",
    "    frequency.sort(key=lambda tup: tup[1], reverse=True)\n",
    "    most_common = frequency[:5]\n",
    "    return most_common"
   ]
  },
  {
   "cell_type": "code",
   "execution_count": 10,
   "metadata": {},
   "outputs": [],
   "source": [
    "#create a list of the most common words per book by iterating through the training set and applying your function\n",
    "\n",
    "common_list = []\n",
    "\n",
    "for index, row in train.iterrows():\n",
    "    common_list.extend([i[0] for i in common_word_getter(row)])"
   ]
  },
  {
   "cell_type": "code",
   "execution_count": 11,
   "metadata": {},
   "outputs": [
    {
     "data": {
      "text/plain": [
       "['Zuko',\n",
       " 'Fire',\n",
       " 'capitol',\n",
       " 'Avatar',\n",
       " \"'s\",\n",
       " 'Harry',\n",
       " '...',\n",
       " 'Potter',\n",
       " 'due',\n",
       " 'start']"
      ]
     },
     "execution_count": 11,
     "metadata": {},
     "output_type": "execute_result"
    }
   ],
   "source": [
    "#show the top of the common list\n",
    "\n",
    "common_list[:10]"
   ]
  },
  {
   "cell_type": "markdown",
   "metadata": {},
   "source": [
    "## Annnnd now we jump straight into the deep end 🤯\n",
    "\n",
    "Up until this point, we've tokenized bits of text manually, and manually sorted, removed stopwords, etc. The hope here is to build some intuition around the steps required to work with text. Now, we're going to introduce some industry standard tools that do many of these steps together. We'll still go step by step, but these tools will allow us to abstract from some of the 'manual-ness' we've experienced thus far."
   ]
  },
  {
   "cell_type": "code",
   "execution_count": 12,
   "metadata": {},
   "outputs": [],
   "source": [
    "#from sklearn.feature_extraction.text import CountVectorizer, TfidfVectorizer\n",
    "#from sklearn.metrics.pairwise import cosine_distances\n",
    "\n",
    "from sklearn.feature_extraction.text import CountVectorizer, TfidfVectorizer\n",
    "from sklearn.metrics.pairwise import cosine_distances"
   ]
  },
  {
   "cell_type": "code",
   "execution_count": 13,
   "metadata": {},
   "outputs": [
    {
     "data": {
      "text/plain": [
       "CountVectorizer(analyzer='word', binary=False, decode_error='strict',\n",
       "                dtype=<class 'numpy.int64'>, encoding='utf-8', input='content',\n",
       "                lowercase=True, max_df=1.0, max_features=None, min_df=1,\n",
       "                ngram_range=(1, 1), preprocessor=None, stop_words=None,\n",
       "                strip_accents=None, token_pattern='(?u)\\\\b\\\\w\\\\w+\\\\b',\n",
       "                tokenizer=None, vocabulary=None)"
      ]
     },
     "execution_count": 13,
     "metadata": {},
     "output_type": "execute_result"
    }
   ],
   "source": [
    "#instantiate an instance of the CountVectorizer() class\n",
    "\n",
    "vect = CountVectorizer()\n",
    "vect"
   ]
  },
  {
   "cell_type": "markdown",
   "metadata": {},
   "source": [
    "This class is really cool. We'll run it on our Description column, and use it to vectorize each piece of text. The vectorizing here is extremely simple, and is the most basic way of making the 'words to numbers' jump we discussed above.\n",
    "\n",
    "Essentially, you take every word in the piece of text you're analyzing and replace it with a 1. Then, for each additional instance of the same word, you add 1. We'll go step by step to show what's happening."
   ]
  },
  {
   "cell_type": "code",
   "execution_count": 14,
   "metadata": {},
   "outputs": [
    {
     "data": {
      "text/plain": [
       "CountVectorizer(analyzer='word', binary=False, decode_error='strict',\n",
       "                dtype=<class 'numpy.int64'>, encoding='utf-8', input='content',\n",
       "                lowercase=True, max_df=1.0, max_features=10, min_df=1,\n",
       "                ngram_range=(1, 1), preprocessor=None,\n",
       "                stop_words=['i', 'me', 'my', 'myself', 'we', 'our', 'ours',\n",
       "                            'ourselves', 'you', \"you're\", \"you've\", \"you'll\",\n",
       "                            \"you'd\", 'your', 'yours', 'yourself', 'yourselves',\n",
       "                            'he', 'him', 'his', 'himself', 'she', \"she's\",\n",
       "                            'her', 'hers', 'herself', 'it', \"it's\", 'its',\n",
       "                            'itself', ...],\n",
       "                strip_accents=None, token_pattern='(?u)\\\\b\\\\w\\\\w+\\\\b',\n",
       "                tokenizer=None, vocabulary=None)"
      ]
     },
     "execution_count": 14,
     "metadata": {},
     "output_type": "execute_result"
    }
   ],
   "source": [
    "#set the stop_words argument equal to the stopwords we defined before, and set max_features to 10\n",
    "\n",
    "vect = CountVectorizer(stop_words=stopwords, max_features=10)\n",
    "vect"
   ]
  },
  {
   "cell_type": "code",
   "execution_count": 15,
   "metadata": {},
   "outputs": [
    {
     "data": {
      "text/plain": [
       "<33x10 sparse matrix of type '<class 'numpy.int64'>'\n",
       "\twith 102 stored elements in Compressed Sparse Row format>"
      ]
     },
     "execution_count": 15,
     "metadata": {},
     "output_type": "execute_result"
    }
   ],
   "source": [
    "#use vect.fit_transform() on the Description column in the training set to find the vectors of the training data\n",
    "\n",
    "train_vectors = vect.fit_transform(train.Description)\n",
    "train_vectors"
   ]
  },
  {
   "cell_type": "code",
   "execution_count": 16,
   "metadata": {},
   "outputs": [
    {
     "data": {
      "text/plain": [
       "['book',\n",
       " 'find',\n",
       " 'harry',\n",
       " 'life',\n",
       " 'must',\n",
       " 'new',\n",
       " 'one',\n",
       " 'series',\n",
       " 'seven',\n",
       " 'world']"
      ]
     },
     "execution_count": 16,
     "metadata": {},
     "output_type": "execute_result"
    }
   ],
   "source": [
    "#get the feature names that sklearn found\n",
    "\n",
    "vect.get_feature_names()"
   ]
  },
  {
   "cell_type": "markdown",
   "metadata": {},
   "source": [
    "The resulting vector is what's called a 'sparse matrix'. This is a numpy data type for storing large, sparse arrays. The dimensions of the vector are:\n",
    "\n",
    "- rows = # of samples vectorized\n",
    "- columns = # of features\n",
    "\n",
    "Now - here's the really mindblowing part :)\n",
    "\n",
    "Now that we've defined this 'vect' class, it will 'remember' it's vocabulary the next time we call it. This is because of the object oriented concept called inheritance. [This](https://towardsdatascience.com/custom-transformers-and-ml-data-pipelines-with-python-20ea2a7adb65) Medium post does a reasonable job at explaining the concept (as applies to sklearn specifically). \n",
    "\n",
    "For our purposes, it means that once we've instantiated the class on the training set, we can call it on the test set and it will remember the common words from the training set. This can be a bit confusing, so definitely do some reading on this before moving on."
   ]
  },
  {
   "cell_type": "code",
   "execution_count": 17,
   "metadata": {},
   "outputs": [
    {
     "data": {
      "text/plain": [
       "<15x10 sparse matrix of type '<class 'numpy.int64'>'\n",
       "\twith 47 stored elements in Compressed Sparse Row format>"
      ]
     },
     "execution_count": 17,
     "metadata": {},
     "output_type": "execute_result"
    }
   ],
   "source": [
    "#repeat the above on the test set\n",
    "\n",
    "test_vectors = vect.transform(test.Description)\n",
    "test_vectors"
   ]
  },
  {
   "cell_type": "markdown",
   "metadata": {},
   "source": [
    "## So now we have two matrices:\n",
    "\n",
    "- The train vector has the vectorization of the ten most common words throughout the corpus\n",
    "- The test vector has the vectorization of each of those ten words in the test set \n",
    "\n",
    "Now, if our goal is to use these training vectors to predict the genre of our test set, we need some way of comparing these vectors against each other. There are many ways to do this, so we'll start with using the cosine similarity. If you're really interested in understanding what's going on under the hood, read up on it [here.](https://en.wikipedia.org/wiki/Cosine_similarity)\n",
    "\n",
    "At a high level, what we need to do a few things:\n",
    "\n",
    "- First, we need to find some measure of 'averageness' across our training vectors. This wil be a single vector that represents the average presence of each term across the training corpus.\n",
    "- Second, we need to score each of the test vectors against this 'average' vector\n",
    "- Third, we should look at those scores and see if there is any discernible pattern in them\n",
    "- Finally, the real test of 'predictiveness' will be to shuffle in some other genres with out test set, score them all against the average vector, and see if we can accurately distinguish the fantasy books from the rest of the data.\n",
    "\n",
    "Let's go!"
   ]
  },
  {
   "cell_type": "code",
   "execution_count": 18,
   "metadata": {},
   "outputs": [
    {
     "data": {
      "text/plain": [
       "matrix([[0.75757576, 0.54545455, 0.66666667, 0.66666667, 0.51515152,\n",
       "         1.09090909, 1.15151515, 0.90909091, 0.54545455, 0.81818182]])"
      ]
     },
     "execution_count": 18,
     "metadata": {},
     "output_type": "execute_result"
    }
   ],
   "source": [
    "#find the average vector in the training set\n",
    "\n",
    "average_vector = train_vectors.mean(axis=0)\n",
    "average_vector"
   ]
  },
  {
   "cell_type": "code",
   "execution_count": 19,
   "metadata": {},
   "outputs": [],
   "source": [
    "#score the test vectors using their cosine distance from the average vector\n",
    "\n",
    "scores = cosine_distances(X=average_vector, Y=test_vectors)"
   ]
  },
  {
   "cell_type": "code",
   "execution_count": 20,
   "metadata": {},
   "outputs": [
    {
     "data": {
      "text/plain": [
       "array([[0.30211608, 0.22679665, 0.58285407, 0.78328976, 0.67493464,\n",
       "        0.70203862, 0.78328976, 0.50268547, 0.2160385 , 0.54289681,\n",
       "        0.40773699, 0.36611695, 0.47867619, 0.40472912, 0.5826069 ]])"
      ]
     },
     "execution_count": 20,
     "metadata": {},
     "output_type": "execute_result"
    }
   ],
   "source": [
    "#show the scores\n",
    "\n",
    "scores"
   ]
  },
  {
   "cell_type": "code",
   "execution_count": 21,
   "metadata": {},
   "outputs": [
    {
     "data": {
      "image/png": "[encoded data removed]",
      "text/plain": [
       "<Figure size 432x288 with 1 Axes>"
      ]
     },
     "metadata": {
      "needs_background": "light"
     },
     "output_type": "display_data"
    }
   ],
   "source": [
    "#histogram the scores\n",
    "\n",
    "plt.hist(scores[0])\n",
    "plt.show()"
   ]
  },
  {
   "cell_type": "code",
   "execution_count": 22,
   "metadata": {},
   "outputs": [],
   "source": [
    "#randomly shuffle in 50 rows from the other genres to the test set, and re-run the same prediction steps we ran above\n",
    "#feel free to also exclude the 'Add a comment' and 'Default' genres, as we don't know what their true genre is\n",
    "\n",
    "out_of_genre = test.append(data[data['Genre']!='Fantasy'].sample(50))\n",
    "out_of_genre = out_of_genre[out_of_genre['Genre']!='Default']\n",
    "out_of_genre = out_of_genre[out_of_genre['Genre']!='Add a comment']"
   ]
  },
  {
   "cell_type": "code",
   "execution_count": 23,
   "metadata": {},
   "outputs": [
    {
     "data": {
      "text/plain": [
       "<51x10 sparse matrix of type '<class 'numpy.int64'>'\n",
       "\twith 139 stored elements in Compressed Sparse Row format>"
      ]
     },
     "execution_count": 23,
     "metadata": {},
     "output_type": "execute_result"
    }
   ],
   "source": [
    "#run the shuffled data through the vect class\n",
    "\n",
    "out_of_genre_vects = vect.transform(out_of_genre.Description)\n",
    "out_of_genre_vects"
   ]
  },
  {
   "cell_type": "code",
   "execution_count": 24,
   "metadata": {},
   "outputs": [],
   "source": [
    "#score these out of genre vectors against the average vector we created above\n",
    "\n",
    "out_of_genre_scores = cosine_distances(average_vector, out_of_genre_vects)"
   ]
  },
  {
   "cell_type": "code",
   "execution_count": 25,
   "metadata": {},
   "outputs": [
    {
     "data": {
      "text/plain": [
       "array([[0.30211608, 0.22679665, 0.58285407, 0.78328976, 0.67493464,\n",
       "        0.70203862, 0.78328976, 0.50268547, 0.2160385 , 0.54289681,\n",
       "        0.40773699, 0.36611695, 0.47867619, 0.40472912, 0.5826069 ,\n",
       "        0.48920907, 0.63881627, 0.39696857, 0.65708478, 0.32663294,\n",
       "        0.4723475 , 0.33782982, 0.59988044, 0.53263647, 0.28126824,\n",
       "        0.69901356, 0.31089484, 0.44664316, 0.55849485, 0.34048311,\n",
       "        0.39573823, 0.34037551, 0.44542645, 1.        , 0.60854346,\n",
       "        0.44720726, 0.46366952, 0.37200427, 0.42246527, 0.5232618 ,\n",
       "        0.53695801, 0.39052908, 0.39296351, 0.43902367, 0.45621201,\n",
       "        0.50623543, 0.55849485, 1.        , 0.47408558, 0.31188767,\n",
       "        0.58258507]])"
      ]
     },
     "execution_count": 25,
     "metadata": {},
     "output_type": "execute_result"
    }
   ],
   "source": [
    "#show the out of genre scores\n",
    "\n",
    "out_of_genre_scores"
   ]
  },
  {
   "cell_type": "code",
   "execution_count": 26,
   "metadata": {},
   "outputs": [
    {
     "data": {
      "image/png": "[encoded data removed]",
      "text/plain": [
       "<Figure size 432x288 with 1 Axes>"
      ]
     },
     "metadata": {
      "needs_background": "light"
     },
     "output_type": "display_data"
    }
   ],
   "source": [
    "#histogram the out of genre scores\n",
    "\n",
    "plt.hist(out_of_genre_scores[0])\n",
    "plt.show()"
   ]
  },
  {
   "cell_type": "markdown",
   "metadata": {},
   "source": [
    "From just looking at the histogram, things don't look very good. The out of sample score distribution looks quite similar to the test score distribution so it may be harder to distinguish the Fantasy genre than we thought.\n",
    "\n",
    "Let's check by adding these scores back into the out of sample dataframe we created, and taking a look at the high scoring rows."
   ]
  },
  {
   "cell_type": "code",
   "execution_count": 27,
   "metadata": {},
   "outputs": [],
   "source": [
    "#add the scores as a 'score' column to the out_of_sample df\n",
    "\n",
    "out_of_genre['score'] = out_of_genre_scores[0]"
   ]
  },
  {
   "cell_type": "code",
   "execution_count": 28,
   "metadata": {},
   "outputs": [],
   "source": [
    "#sort the df by your score column, from highest value to lowest\n",
    "\n",
    "try_it_out = out_of_genre.sort_values(by='score', ascending=False)"
   ]
  },
  {
   "cell_type": "code",
   "execution_count": 29,
   "metadata": {},
   "outputs": [
    {
     "data": {
      "text/html": [
       "<div>\n",
       "<style scoped>\n",
       "    .dataframe tbody tr th:only-of-type {\n",
       "        vertical-align: middle;\n",
       "    }\n",
       "\n",
       "    .dataframe tbody tr th {\n",
       "        vertical-align: top;\n",
       "    }\n",
       "\n",
       "    .dataframe thead th {\n",
       "        text-align: right;\n",
       "    }\n",
       "</style>\n",
       "<table border=\"1\" class=\"dataframe\">\n",
       "  <thead>\n",
       "    <tr style=\"text-align: right;\">\n",
       "      <th></th>\n",
       "      <th>Title</th>\n",
       "      <th>Price</th>\n",
       "      <th>Description</th>\n",
       "      <th>Rating</th>\n",
       "      <th>Link</th>\n",
       "      <th>Genre</th>\n",
       "      <th>score</th>\n",
       "    </tr>\n",
       "  </thead>\n",
       "  <tbody>\n",
       "    <tr>\n",
       "      <th>618</th>\n",
       "      <td>Killing Floor (Jack Reacher #1)</td>\n",
       "      <td>Â£31.49</td>\n",
       "      <td>Ex-military policeman Jack Reacher is a drifte...</td>\n",
       "      <td>Four</td>\n",
       "      <td>killing-floor-jack-reacher-1_382/index.html</td>\n",
       "      <td>Thriller</td>\n",
       "      <td>1.000000</td>\n",
       "    </tr>\n",
       "    <tr>\n",
       "      <th>489</th>\n",
       "      <td>A Murder Over a Girl: Justice, Gender, Junior ...</td>\n",
       "      <td>Â£13.20</td>\n",
       "      <td>A psychologist's gripping, troubling, and movi...</td>\n",
       "      <td>Three</td>\n",
       "      <td>a-murder-over-a-girl-justice-gender-junior-hig...</td>\n",
       "      <td>Nonfiction</td>\n",
       "      <td>1.000000</td>\n",
       "    </tr>\n",
       "    <tr>\n",
       "      <th>946</th>\n",
       "      <td>Sister Sable (The Mad Queen #1)</td>\n",
       "      <td>Â£13.33</td>\n",
       "      <td>THE FIRST TENET OF THE WIND: Do not get caught...</td>\n",
       "      <td>Three</td>\n",
       "      <td>sister-sable-the-mad-queen-1_54/index.html</td>\n",
       "      <td>Fantasy</td>\n",
       "      <td>0.783290</td>\n",
       "    </tr>\n",
       "    <tr>\n",
       "      <th>927</th>\n",
       "      <td>The Mirror &amp; the Maze (The Wrath and the Dawn ...</td>\n",
       "      <td>Â£29.38</td>\n",
       "      <td>The city of Rey is burning. With smoke billowi...</td>\n",
       "      <td>One</td>\n",
       "      <td>the-mirror-the-maze-the-wrath-and-the-dawn-15_...</td>\n",
       "      <td>Fantasy</td>\n",
       "      <td>0.783290</td>\n",
       "    </tr>\n",
       "    <tr>\n",
       "      <th>49</th>\n",
       "      <td>Unicorn Tracks</td>\n",
       "      <td>Â£18.78</td>\n",
       "      <td>After a savage attack drives her from her home...</td>\n",
       "      <td>Three</td>\n",
       "      <td>unicorn-tracks_951/index.html</td>\n",
       "      <td>Fantasy</td>\n",
       "      <td>0.702039</td>\n",
       "    </tr>\n",
       "    <tr>\n",
       "      <th>294</th>\n",
       "      <td>It's All Easy: Healthy, Delicious Weeknight Me...</td>\n",
       "      <td>Â£19.55</td>\n",
       "      <td>For fans of It's All Good-or just delicious fo...</td>\n",
       "      <td>One</td>\n",
       "      <td>its-all-easy-healthy-delicious-weeknight-meals...</td>\n",
       "      <td>Food and Drink</td>\n",
       "      <td>0.699014</td>\n",
       "    </tr>\n",
       "    <tr>\n",
       "      <th>806</th>\n",
       "      <td>Midnight Riot (Peter Grant/ Rivers of London -...</td>\n",
       "      <td>Â£55.46</td>\n",
       "      <td>Probationary Constable Peter Grant dreams of b...</td>\n",
       "      <td>Two</td>\n",
       "      <td>midnight-riot-peter-grant-rivers-of-london-boo...</td>\n",
       "      <td>Fantasy</td>\n",
       "      <td>0.674935</td>\n",
       "    </tr>\n",
       "    <tr>\n",
       "      <th>509</th>\n",
       "      <td>The Bachelor Girl's Guide to Murder (Herringfo...</td>\n",
       "      <td>Â£52.30</td>\n",
       "      <td>In 1910 Toronto, while other bachelor girls pe...</td>\n",
       "      <td>Five</td>\n",
       "      <td>the-bachelor-girls-guide-to-murder-herringford...</td>\n",
       "      <td>Mystery</td>\n",
       "      <td>0.657085</td>\n",
       "    </tr>\n",
       "    <tr>\n",
       "      <th>713</th>\n",
       "      <td>The Wicked + The Divine, Vol. 3: Commercial Su...</td>\n",
       "      <td>Â£14.41</td>\n",
       "      <td>After the detonation of FANDEMONIUM the gods-a...</td>\n",
       "      <td>Three</td>\n",
       "      <td>the-wicked-the-divine-vol-3-commercial-suicide...</td>\n",
       "      <td>Sequential Art</td>\n",
       "      <td>0.638816</td>\n",
       "    </tr>\n",
       "    <tr>\n",
       "      <th>467</th>\n",
       "      <td>Man's Search for Meaning</td>\n",
       "      <td>Â£29.48</td>\n",
       "      <td>Psychiatrist Viktor Frankl's memoir has rivete...</td>\n",
       "      <td>Three</td>\n",
       "      <td>mans-search-for-meaning_533/index.html</td>\n",
       "      <td>Nonfiction</td>\n",
       "      <td>0.608543</td>\n",
       "    </tr>\n",
       "  </tbody>\n",
       "</table>\n",
       "</div>"
      ],
      "text/plain": [
       "                                                 Title    Price  \\\n",
       "618                    Killing Floor (Jack Reacher #1)  Â£31.49   \n",
       "489  A Murder Over a Girl: Justice, Gender, Junior ...  Â£13.20   \n",
       "946                    Sister Sable (The Mad Queen #1)  Â£13.33   \n",
       "927  The Mirror & the Maze (The Wrath and the Dawn ...  Â£29.38   \n",
       "49                                      Unicorn Tracks  Â£18.78   \n",
       "294  It's All Easy: Healthy, Delicious Weeknight Me...  Â£19.55   \n",
       "806  Midnight Riot (Peter Grant/ Rivers of London -...  Â£55.46   \n",
       "509  The Bachelor Girl's Guide to Murder (Herringfo...  Â£52.30   \n",
       "713  The Wicked + The Divine, Vol. 3: Commercial Su...  Â£14.41   \n",
       "467                           Man's Search for Meaning  Â£29.48   \n",
       "\n",
       "                                           Description Rating  \\\n",
       "618  Ex-military policeman Jack Reacher is a drifte...   Four   \n",
       "489  A psychologist's gripping, troubling, and movi...  Three   \n",
       "946  THE FIRST TENET OF THE WIND: Do not get caught...  Three   \n",
       "927  The city of Rey is burning. With smoke billowi...    One   \n",
       "49   After a savage attack drives her from her home...  Three   \n",
       "294  For fans of It's All Good-or just delicious fo...    One   \n",
       "806  Probationary Constable Peter Grant dreams of b...    Two   \n",
       "509  In 1910 Toronto, while other bachelor girls pe...   Five   \n",
       "713  After the detonation of FANDEMONIUM the gods-a...  Three   \n",
       "467  Psychiatrist Viktor Frankl's memoir has rivete...  Three   \n",
       "\n",
       "                                                  Link           Genre  \\\n",
       "618        killing-floor-jack-reacher-1_382/index.html        Thriller   \n",
       "489  a-murder-over-a-girl-justice-gender-junior-hig...      Nonfiction   \n",
       "946         sister-sable-the-mad-queen-1_54/index.html         Fantasy   \n",
       "927  the-mirror-the-maze-the-wrath-and-the-dawn-15_...         Fantasy   \n",
       "49                       unicorn-tracks_951/index.html         Fantasy   \n",
       "294  its-all-easy-healthy-delicious-weeknight-meals...  Food and Drink   \n",
       "806  midnight-riot-peter-grant-rivers-of-london-boo...         Fantasy   \n",
       "509  the-bachelor-girls-guide-to-murder-herringford...         Mystery   \n",
       "713  the-wicked-the-divine-vol-3-commercial-suicide...  Sequential Art   \n",
       "467             mans-search-for-meaning_533/index.html      Nonfiction   \n",
       "\n",
       "        score  \n",
       "618  1.000000  \n",
       "489  1.000000  \n",
       "946  0.783290  \n",
       "927  0.783290  \n",
       "49   0.702039  \n",
       "294  0.699014  \n",
       "806  0.674935  \n",
       "509  0.657085  \n",
       "713  0.638816  \n",
       "467  0.608543  "
      ]
     },
     "execution_count": 29,
     "metadata": {},
     "output_type": "execute_result"
    }
   ],
   "source": [
    "#show the first 10 rows of the df\n",
    "\n",
    "try_it_out.head(10)"
   ]
  },
  {
   "cell_type": "code",
   "execution_count": 30,
   "metadata": {},
   "outputs": [
    {
     "data": {
      "text/plain": [
       "Fantasy           7\n",
       "Nonfiction        5\n",
       "Sequential Art    2\n",
       "Mystery           1\n",
       "Psychology        1\n",
       "Humor             1\n",
       "Thriller          1\n",
       "Womens Fiction    1\n",
       "Food and Drink    1\n",
       "Name: Genre, dtype: int64"
      ]
     },
     "execution_count": 30,
     "metadata": {},
     "output_type": "execute_result"
    }
   ],
   "source": [
    "#show the Genre value counts of the 20 highest scoring books\n",
    "\n",
    "try_it_out.head(20).Genre.value_counts()"
   ]
  },
  {
   "cell_type": "markdown",
   "metadata": {},
   "source": [
    "## Lessons learned:\n",
    "\n",
    "If you look at the dataframe above, you'll see our scoring method performed very poorly. This is for a number of reasons:\n",
    "\n",
    "- The vectorization we used is extremely simplistic and just uses word counts. In a real world application, a data scientist would use a far more advanced embedding method.\n",
    "- Our dataset is fairly small, and it seems like the Fantasy genre doesn't have many unique words like we'd hoped.\n",
    "    - We can tell this by looking at the top 10 tokens in the training set. They don't seem particularly 'fantasy-like' to me:\n",
    "        - ['book', 'city', 'find', 'four', 'life', 'new', 'one', 'series', 'world', 'year']\n",
    "- There's clearly a high amount of linguistic overlap between Fantasy, Sequential Art, Young Adult, and Childrens book descriptions. You can tell this by looking at the highest scoring books in our out of sample test we ran. 13 out of the top 20 scoring books fall into one of those genres.\n",
    "\n",
    "### So - how do we improve on this?\n",
    "- Experiment with different numbers of features to look for. We started with 10, but you should expreriment toggling it up and down. Keep in mind that when you add tokens, even though it might make finding the genre easier, you also run the risk of catching other erroneous genres. This is a double edged sword.\n",
    "- Turn the above steps into a sklearn pipeline so that you can easily run a few dozen attempts, and so that the data scientist you're likely building this pipeline for can easily grid search on it.\n",
    "- Use a better vectorization method. There are lot's of better ways to do this that are more likely to be used in the real world:\n",
    "    - TF-IDF stands for Term Frequency - Inverse Document Frequency. This method lowers the value given to a word if it appears many times in the overall dataset. So for example, in our book descriptions we're looking at we're specifically looking for words that are common to *only* the Fantasy genre. Words that are generally common like 'book' or 'story' aren't particularly helpful.\n",
    "    \n",
    "    - Use something more advanced than word frequency based methods\n",
    "\n",
    "- Lemmatize the words. This is cutting the words down to just their stems so that words with similar roots are grouped together.\n",
    " "
   ]
  }
 ],
 "metadata": {
  "kernelspec": {
   "display_name": "Python 3",
   "language": "python",
   "name": "python3"
  },
  "language_info": {
   "codemirror_mode": {
    "name": "ipython",
    "version": 3
   },
   "file_extension": ".py",
   "mimetype": "text/x-python",
   "name": "python",
   "nbconvert_exporter": "python",
   "pygments_lexer": "ipython3",
   "version": "3.7.6"
  }
 },
 "nbformat": 4,
 "nbformat_minor": 4
}
